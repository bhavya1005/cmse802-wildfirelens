{
 "cells": [
  {
   "cell_type": "code",
   "execution_count": 4,
   "id": "77c4f769",
   "metadata": {},
   "outputs": [
    {
     "data": {
      "image/png": "[encoded data removed]",
      "text/plain": [
       "<Figure size 600x300 with 1 Axes>"
      ]
     },
     "metadata": {},
     "output_type": "display_data"
    }
   ],
   "source": [
    "import matplotlib.pyplot as plt\n",
    "import matplotlib.animation as animation\n",
    "import numpy as np\n",
    "\n",
    "fig, ax = plt.subplots(figsize=(6, 3))\n",
    "ax.set_xlim(0, 10)\n",
    "ax.set_ylim(0, 5)\n",
    "ax.axis('off')\n",
    "\n",
    "# Stick figure components\n",
    "head, = ax.plot([], [], 'o', color='black')\n",
    "body, = ax.plot([], [], '-', lw=2, color='black')\n",
    "arms, = ax.plot([], [], '-', lw=2, color='black')\n",
    "legs, = ax.plot([], [], '-', lw=2, color='black')\n",
    "\n",
    "# Fire flames on the right\n",
    "flames = []\n",
    "for i in range(5):\n",
    "    flame, = ax.plot([], [], color='orange', lw=2)\n",
    "    flames.append(flame)\n",
    "\n",
    "def init():\n",
    "    for f in flames:\n",
    "        f.set_data([], [])\n",
    "    head.set_data([], [])\n",
    "    body.set_data([], [])\n",
    "    arms.set_data([], [])\n",
    "    legs.set_data([], [])\n",
    "    return [head, body, arms, legs] + flames\n",
    "\n",
    "def animate(i):\n",
    "    x = 8 - i * 0.1  # Move left\n",
    "    y = 2\n",
    "\n",
    "    # Stick figure parts\n",
    "    head.set_data([x], [y + 1])\n",
    "    body.set_data([x, x], [y, y + 1])\n",
    "    arms.set_data([x - 0.3, x, x + 0.3], [y + 0.7, y + 0.8 + 0.1 * np.sin(i), y + 0.7])\n",
    "    legs.set_data([x - 0.3, x, x + 0.3], [y - 0.5 + 0.1 * np.cos(i), y, y - 0.5 + 0.1 * np.sin(i)])\n",
    "\n",
    "    # Fire flickering\n",
    "    for idx, f in enumerate(flames):\n",
    "        fx = 9 + 0.2 * np.sin(i + idx)\n",
    "        fy = 1 + idx * 0.5 + 0.3 * np.cos(i + idx)\n",
    "        f.set_data([fx, fx], [1, fy])\n",
    "\n",
    "    return [head, body, arms, legs] + flames\n",
    "\n",
    "ani = animation.FuncAnimation(fig, animate, init_func=init, frames=60, interval=80, blit=True)\n",
    "\n",
    "# Save to gif\n",
    "ani.save(\"wildfire_stick_figure.gif\", writer=\"pillow\", fps=12)\n",
    "\n",
    "plt.show()\n"
   ]
  },
  {
   "cell_type": "code",
   "execution_count": 5,
   "id": "75feb623",
   "metadata": {},
   "outputs": [
    {
     "data": {
      "image/png": "[encoded data removed]",
      "text/plain": [
       "<Figure size 640x480 with 1 Axes>"
      ]
     },
     "metadata": {},
     "output_type": "display_data"
    }
   ],
   "source": [
    "import numpy as np\n",
    "import matplotlib.pyplot as plt\n",
    "import matplotlib.animation as animation\n",
    "\n",
    "# Example: simulate a list of 2D wildfire spread arrays\n",
    "# Replace this with your real 'hist' data\n",
    "hist = [np.zeros((20, 20)) for _ in range(30)]\n",
    "for i in range(30):\n",
    "    hist[i][10, 10+i//3] = 1  # Simulated fire spread\n",
    "\n",
    "fig, ax = plt.subplots()\n",
    "im = ax.imshow(hist[0], cmap='hot', vmin=0, vmax=2)\n",
    "stickman, = ax.plot([], [], 'o-', color='blue', lw=2)  # stick head and body\n",
    "ax.axis('off')\n",
    "\n",
    "def init():\n",
    "    im.set_data(hist[0])\n",
    "    stickman.set_data([], [])\n",
    "    return [im, stickman]\n",
    "\n",
    "def animate(i):\n",
    "    im.set_data(hist[i])\n",
    "    \n",
    "    # Stick figure moves away from fire\n",
    "    x = 5 + i * 0.2  # horizontal movement\n",
    "    y = 15 - i * 0.1  # diagonal upward\n",
    "    stickman.set_data([x, x], [y, y+1])  # just body (add limbs if needed)\n",
    "\n",
    "    return [im, stickman]\n",
    "\n",
    "ani = animation.FuncAnimation(fig, animate, init_func=init, frames=len(hist), interval=200, blit=True)\n",
    "ani.save(\"wildfire_sim_with_runner.gif\", writer=\"pillow\")\n",
    "plt.show()\n"
   ]
  },
  {
   "cell_type": "code",
   "execution_count": null,
   "id": "44e0d153",
   "metadata": {},
   "outputs": [],
   "source": []
  }
 ],
 "metadata": {
  "kernelspec": {
   "display_name": "python3.11",
   "language": "python",
   "name": "python3"
  },
  "language_info": {
   "codemirror_mode": {
    "name": "ipython",
    "version": 3
   },
   "file_extension": ".py",
   "mimetype": "text/x-python",
   "name": "python",
   "nbconvert_exporter": "python",
   "pygments_lexer": "ipython3",
   "version": "3.11.11"
  }
 },
 "nbformat": 4,
 "nbformat_minor": 5
}
